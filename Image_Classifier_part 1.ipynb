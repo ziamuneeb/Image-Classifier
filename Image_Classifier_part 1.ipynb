{
 "cells": [
  {
   "cell_type": "code",
   "execution_count": 1,
   "metadata": {},
   "outputs": [
    {
     "name": "stderr",
     "output_type": "stream",
     "text": [
      "Using TensorFlow backend.\n",
      "C:\\Users\\srt90\\Anaconda3\\lib\\site-packages\\tensorflow\\python\\framework\\dtypes.py:523: FutureWarning: Passing (type, 1) or '1type' as a synonym of type is deprecated; in a future version of numpy, it will be understood as (type, (1,)) / '(1,)type'.\n",
      "  _np_qint8 = np.dtype([(\"qint8\", np.int8, 1)])\n",
      "C:\\Users\\srt90\\Anaconda3\\lib\\site-packages\\tensorflow\\python\\framework\\dtypes.py:524: FutureWarning: Passing (type, 1) or '1type' as a synonym of type is deprecated; in a future version of numpy, it will be understood as (type, (1,)) / '(1,)type'.\n",
      "  _np_quint8 = np.dtype([(\"quint8\", np.uint8, 1)])\n",
      "C:\\Users\\srt90\\Anaconda3\\lib\\site-packages\\tensorflow\\python\\framework\\dtypes.py:525: FutureWarning: Passing (type, 1) or '1type' as a synonym of type is deprecated; in a future version of numpy, it will be understood as (type, (1,)) / '(1,)type'.\n",
      "  _np_qint16 = np.dtype([(\"qint16\", np.int16, 1)])\n",
      "C:\\Users\\srt90\\Anaconda3\\lib\\site-packages\\tensorflow\\python\\framework\\dtypes.py:526: FutureWarning: Passing (type, 1) or '1type' as a synonym of type is deprecated; in a future version of numpy, it will be understood as (type, (1,)) / '(1,)type'.\n",
      "  _np_quint16 = np.dtype([(\"quint16\", np.uint16, 1)])\n",
      "C:\\Users\\srt90\\Anaconda3\\lib\\site-packages\\tensorflow\\python\\framework\\dtypes.py:527: FutureWarning: Passing (type, 1) or '1type' as a synonym of type is deprecated; in a future version of numpy, it will be understood as (type, (1,)) / '(1,)type'.\n",
      "  _np_qint32 = np.dtype([(\"qint32\", np.int32, 1)])\n",
      "C:\\Users\\srt90\\Anaconda3\\lib\\site-packages\\tensorflow\\python\\framework\\dtypes.py:532: FutureWarning: Passing (type, 1) or '1type' as a synonym of type is deprecated; in a future version of numpy, it will be understood as (type, (1,)) / '(1,)type'.\n",
      "  np_resource = np.dtype([(\"resource\", np.ubyte, 1)])\n"
     ]
    }
   ],
   "source": [
    "import pandas as pd\n",
    "import numpy as np\n",
    "import random\n",
    "import os\n",
    "import cv2\n",
    "import keras\n",
    "import seaborn as sns\n",
    "import random\n",
    "import matplotlib.pyplot as plt\n",
    "%matplotlib inline\n",
    "from keras_preprocessing.image import ImageDataGenerator\n",
    "from keras_preprocessing import image\n",
    "from sklearn.model_selection import train_test_split\n",
    "from sklearn.metrics import confusion_matrix\n",
    "from keras.models import load_model\n",
    "from sklearn.metrics import accuracy_score\n",
    "import tensorflow as tf\n",
    "import matplotlib.pyplot as plt\n",
    "from tensorflow.keras.layers import Dense, Flatten, Activation, Conv2D, MaxPooling2D\n",
    "from tensorflow.keras.layers import Dropout, BatchNormalization\n",
    "from tensorflow.keras.models import Sequential\n",
    "from sklearn.model_selection import StratifiedKFold\n",
    "from sklearn.model_selection import cross_val_score"
   ]
  },
  {
   "cell_type": "code",
   "execution_count": 2,
   "metadata": {},
   "outputs": [],
   "source": [
    "import seaborn as sns\n",
    "import random\n",
    "import matplotlib.pyplot as plt\n",
    "%matplotlib inline"
   ]
  },
  {
   "cell_type": "code",
   "execution_count": 3,
   "metadata": {},
   "outputs": [],
   "source": [
    "train_csv = pd.read_csv('train.csv')"
   ]
  },
  {
   "cell_type": "code",
   "execution_count": 4,
   "metadata": {},
   "outputs": [
    {
     "data": {
      "text/html": [
       "<div>\n",
       "<style scoped>\n",
       "    .dataframe tbody tr th:only-of-type {\n",
       "        vertical-align: middle;\n",
       "    }\n",
       "\n",
       "    .dataframe tbody tr th {\n",
       "        vertical-align: top;\n",
       "    }\n",
       "\n",
       "    .dataframe thead th {\n",
       "        text-align: right;\n",
       "    }\n",
       "</style>\n",
       "<table border=\"1\" class=\"dataframe\">\n",
       "  <thead>\n",
       "    <tr style=\"text-align: right;\">\n",
       "      <th></th>\n",
       "      <th>Image</th>\n",
       "      <th>Id</th>\n",
       "    </tr>\n",
       "  </thead>\n",
       "  <tbody>\n",
       "    <tr>\n",
       "      <th>0</th>\n",
       "      <td>0000e88ab.jpg</td>\n",
       "      <td>w_f48451c</td>\n",
       "    </tr>\n",
       "    <tr>\n",
       "      <th>1</th>\n",
       "      <td>0001f9222.jpg</td>\n",
       "      <td>w_c3d896a</td>\n",
       "    </tr>\n",
       "    <tr>\n",
       "      <th>2</th>\n",
       "      <td>00029d126.jpg</td>\n",
       "      <td>w_20df2c5</td>\n",
       "    </tr>\n",
       "    <tr>\n",
       "      <th>3</th>\n",
       "      <td>00050a15a.jpg</td>\n",
       "      <td>new_whale</td>\n",
       "    </tr>\n",
       "    <tr>\n",
       "      <th>4</th>\n",
       "      <td>0005c1ef8.jpg</td>\n",
       "      <td>new_whale</td>\n",
       "    </tr>\n",
       "  </tbody>\n",
       "</table>\n",
       "</div>"
      ],
      "text/plain": [
       "           Image         Id\n",
       "0  0000e88ab.jpg  w_f48451c\n",
       "1  0001f9222.jpg  w_c3d896a\n",
       "2  00029d126.jpg  w_20df2c5\n",
       "3  00050a15a.jpg  new_whale\n",
       "4  0005c1ef8.jpg  new_whale"
      ]
     },
     "execution_count": 4,
     "metadata": {},
     "output_type": "execute_result"
    }
   ],
   "source": [
    "train_csv.head()"
   ]
  },
  {
   "cell_type": "code",
   "execution_count": 5,
   "metadata": {
    "scrolled": true
   },
   "outputs": [
    {
     "data": {
      "text/plain": [
       "new_whale    9664\n",
       "w_23a388d      73\n",
       "w_9b5109b      65\n",
       "w_9c506f6      62\n",
       "w_0369a5c      61\n",
       "w_700ebb4      57\n",
       "w_3de579a      54\n",
       "w_564a34b      51\n",
       "w_fd3e556      50\n",
       "w_88e4537      49\n",
       "Name: Id, dtype: int64"
      ]
     },
     "execution_count": 5,
     "metadata": {},
     "output_type": "execute_result"
    }
   ],
   "source": [
    "#Top 10 categories\n",
    "train_csv['Id'].value_counts()[:10]"
   ]
  },
  {
   "cell_type": "markdown",
   "metadata": {},
   "source": [
    "# Data vizzzz"
   ]
  },
  {
   "cell_type": "code",
   "execution_count": 6,
   "metadata": {},
   "outputs": [
    {
     "data": {
      "text/plain": [
       "(array([ 0,  1,  2,  3,  4,  5,  6,  7,  8,  9, 10, 11, 12, 13, 14, 15, 16,\n",
       "        17, 18, 19, 20, 21, 22, 23, 24, 25, 26, 27, 28, 29, 30, 31, 32, 33,\n",
       "        34, 35, 36, 37, 38, 39, 40, 41, 42, 43, 44, 45, 46, 47, 48, 49]),\n",
       " <a list of 50 Text xticklabel objects>)"
      ]
     },
     "execution_count": 6,
     "metadata": {},
     "output_type": "execute_result"
    },
    {
     "data": {
      "image/png": "[encoded data removed]",
      "text/plain": [
       "<Figure size 720x360 with 1 Axes>"
      ]
     },
     "metadata": {
      "needs_background": "light"
     },
     "output_type": "display_data"
    }
   ],
   "source": [
    "plt.figure(figsize=(10,5))\n",
    "sns.countplot(x = 'Id', order = train_csv['Id'].value_counts()[:50].index, data = train_csv)\n",
    "plt.ylim(0,1000)\n",
    "plt.xticks(rotation = 90)"
   ]
  },
  {
   "cell_type": "markdown",
   "metadata": {},
   "source": [
    "This Dataset is **imbalanced**, becuase each classes in the dataset are not equal in amount. So for better classification of images we need to do **Data Augumentation** to get **Balanced data** where the algorithm can better classify the images."
   ]
  },
  {
   "cell_type": "markdown",
   "metadata": {},
   "source": [
    "# Data Augumentation and Pre processing"
   ]
  },
  {
   "cell_type": "code",
   "execution_count": 7,
   "metadata": {},
   "outputs": [],
   "source": [
    "# Creating a Dataframe that contains Top 10 ids\n",
    "\n",
    "train_data = train_csv.loc[(train_csv['Id'] == 'w_23a388d') | (train_csv['Id'] == 'w_23a388d') | (train_csv['Id'] == 'w_9c506f6') | (train_csv['Id'] == 'w_0369a5c') |  (train_csv['Id'] == 'new_whale')\n",
    "                          | (train_csv['Id'] == 'w_700ebb4')| (train_csv['Id'] == 'w_3de579a') | (train_csv['Id'] == 'w_564a34b') |  (train_csv['Id'] == 'w_fd3e556')|  (train_csv['Id'] == 'w_88e4537')]"
   ]
  },
  {
   "cell_type": "code",
   "execution_count": 8,
   "metadata": {},
   "outputs": [
    {
     "data": {
      "text/html": [
       "<div>\n",
       "<style scoped>\n",
       "    .dataframe tbody tr th:only-of-type {\n",
       "        vertical-align: middle;\n",
       "    }\n",
       "\n",
       "    .dataframe tbody tr th {\n",
       "        vertical-align: top;\n",
       "    }\n",
       "\n",
       "    .dataframe thead th {\n",
       "        text-align: right;\n",
       "    }\n",
       "</style>\n",
       "<table border=\"1\" class=\"dataframe\">\n",
       "  <thead>\n",
       "    <tr style=\"text-align: right;\">\n",
       "      <th></th>\n",
       "      <th>Image</th>\n",
       "      <th>Id</th>\n",
       "    </tr>\n",
       "  </thead>\n",
       "  <tbody>\n",
       "    <tr>\n",
       "      <th>0</th>\n",
       "      <td>00050a15a.jpg</td>\n",
       "      <td>new_whale</td>\n",
       "    </tr>\n",
       "    <tr>\n",
       "      <th>1</th>\n",
       "      <td>0005c1ef8.jpg</td>\n",
       "      <td>new_whale</td>\n",
       "    </tr>\n",
       "    <tr>\n",
       "      <th>2</th>\n",
       "      <td>0006e997e.jpg</td>\n",
       "      <td>new_whale</td>\n",
       "    </tr>\n",
       "    <tr>\n",
       "      <th>3</th>\n",
       "      <td>000f0f2bf.jpg</td>\n",
       "      <td>new_whale</td>\n",
       "    </tr>\n",
       "    <tr>\n",
       "      <th>4</th>\n",
       "      <td>001d7450c.jpg</td>\n",
       "      <td>new_whale</td>\n",
       "    </tr>\n",
       "  </tbody>\n",
       "</table>\n",
       "</div>"
      ],
      "text/plain": [
       "           Image         Id\n",
       "0  00050a15a.jpg  new_whale\n",
       "1  0005c1ef8.jpg  new_whale\n",
       "2  0006e997e.jpg  new_whale\n",
       "3  000f0f2bf.jpg  new_whale\n",
       "4  001d7450c.jpg  new_whale"
      ]
     },
     "execution_count": 8,
     "metadata": {},
     "output_type": "execute_result"
    }
   ],
   "source": [
    "train_data.index = range(0, len(train_data))\n",
    "train_data.head()"
   ]
  },
  {
   "cell_type": "code",
   "execution_count": 9,
   "metadata": {
    "scrolled": true
   },
   "outputs": [
    {
     "data": {
      "text/plain": [
       "new_whale    9664\n",
       "w_23a388d      73\n",
       "w_9c506f6      62\n",
       "w_0369a5c      61\n",
       "w_700ebb4      57\n",
       "w_3de579a      54\n",
       "w_564a34b      51\n",
       "w_fd3e556      50\n",
       "w_88e4537      49\n",
       "Name: Id, dtype: int64"
      ]
     },
     "execution_count": 9,
     "metadata": {},
     "output_type": "execute_result"
    }
   ],
   "source": [
    "train_data['Id'].value_counts()"
   ]
  },
  {
   "cell_type": "code",
   "execution_count": 10,
   "metadata": {},
   "outputs": [],
   "source": [
    "asd = []\n",
    "for ids in train_csv['Id'].value_counts()[:10].index:\n",
    "    asd.append(ids)"
   ]
  },
  {
   "cell_type": "code",
   "execution_count": 11,
   "metadata": {},
   "outputs": [],
   "source": [
    "def labelling():\n",
    "    label = {}\n",
    "    for l in asd:\n",
    "        la = asd.index(l)\n",
    "        label[l] = la\n",
    "    return label"
   ]
  },
  {
   "cell_type": "code",
   "execution_count": 12,
   "metadata": {},
   "outputs": [],
   "source": [
    "qq = labelling()"
   ]
  },
  {
   "cell_type": "code",
   "execution_count": 13,
   "metadata": {},
   "outputs": [
    {
     "data": {
      "text/plain": [
       "{'new_whale': 0,\n",
       " 'w_23a388d': 1,\n",
       " 'w_9b5109b': 2,\n",
       " 'w_9c506f6': 3,\n",
       " 'w_0369a5c': 4,\n",
       " 'w_700ebb4': 5,\n",
       " 'w_3de579a': 6,\n",
       " 'w_564a34b': 7,\n",
       " 'w_fd3e556': 8,\n",
       " 'w_88e4537': 9}"
      ]
     },
     "execution_count": 13,
     "metadata": {},
     "output_type": "execute_result"
    }
   ],
   "source": [
    "qq"
   ]
  },
  {
   "cell_type": "code",
   "execution_count": 14,
   "metadata": {},
   "outputs": [],
   "source": [
    "def lab():\n",
    "    value = []\n",
    "    for ids in train_data['Id']:\n",
    "        for a,b in qq.items():\n",
    "            if ids == a:\n",
    "                value.append(b)\n",
    "    return value"
   ]
  },
  {
   "cell_type": "code",
   "execution_count": 15,
   "metadata": {},
   "outputs": [],
   "source": [
    "result = lab()"
   ]
  },
  {
   "cell_type": "code",
   "execution_count": 16,
   "metadata": {},
   "outputs": [
    {
     "name": "stderr",
     "output_type": "stream",
     "text": [
      "C:\\Users\\srt90\\Anaconda3\\lib\\site-packages\\ipykernel_launcher.py:1: SettingWithCopyWarning: \n",
      "A value is trying to be set on a copy of a slice from a DataFrame.\n",
      "Try using .loc[row_indexer,col_indexer] = value instead\n",
      "\n",
      "See the caveats in the documentation: http://pandas.pydata.org/pandas-docs/stable/indexing.html#indexing-view-versus-copy\n",
      "  \"\"\"Entry point for launching an IPython kernel.\n"
     ]
    }
   ],
   "source": [
    "train_data['Labels'] = result"
   ]
  },
  {
   "cell_type": "code",
   "execution_count": 17,
   "metadata": {
    "scrolled": true
   },
   "outputs": [
    {
     "data": {
      "text/html": [
       "<div>\n",
       "<style scoped>\n",
       "    .dataframe tbody tr th:only-of-type {\n",
       "        vertical-align: middle;\n",
       "    }\n",
       "\n",
       "    .dataframe tbody tr th {\n",
       "        vertical-align: top;\n",
       "    }\n",
       "\n",
       "    .dataframe thead th {\n",
       "        text-align: right;\n",
       "    }\n",
       "</style>\n",
       "<table border=\"1\" class=\"dataframe\">\n",
       "  <thead>\n",
       "    <tr style=\"text-align: right;\">\n",
       "      <th></th>\n",
       "      <th>Image</th>\n",
       "      <th>Id</th>\n",
       "      <th>Labels</th>\n",
       "    </tr>\n",
       "  </thead>\n",
       "  <tbody>\n",
       "    <tr>\n",
       "      <th>0</th>\n",
       "      <td>00050a15a.jpg</td>\n",
       "      <td>new_whale</td>\n",
       "      <td>0</td>\n",
       "    </tr>\n",
       "    <tr>\n",
       "      <th>1</th>\n",
       "      <td>0005c1ef8.jpg</td>\n",
       "      <td>new_whale</td>\n",
       "      <td>0</td>\n",
       "    </tr>\n",
       "    <tr>\n",
       "      <th>2</th>\n",
       "      <td>0006e997e.jpg</td>\n",
       "      <td>new_whale</td>\n",
       "      <td>0</td>\n",
       "    </tr>\n",
       "    <tr>\n",
       "      <th>3</th>\n",
       "      <td>000f0f2bf.jpg</td>\n",
       "      <td>new_whale</td>\n",
       "      <td>0</td>\n",
       "    </tr>\n",
       "    <tr>\n",
       "      <th>4</th>\n",
       "      <td>001d7450c.jpg</td>\n",
       "      <td>new_whale</td>\n",
       "      <td>0</td>\n",
       "    </tr>\n",
       "  </tbody>\n",
       "</table>\n",
       "</div>"
      ],
      "text/plain": [
       "           Image         Id  Labels\n",
       "0  00050a15a.jpg  new_whale       0\n",
       "1  0005c1ef8.jpg  new_whale       0\n",
       "2  0006e997e.jpg  new_whale       0\n",
       "3  000f0f2bf.jpg  new_whale       0\n",
       "4  001d7450c.jpg  new_whale       0"
      ]
     },
     "execution_count": 17,
     "metadata": {},
     "output_type": "execute_result"
    }
   ],
   "source": [
    "train_data.head()"
   ]
  },
  {
   "cell_type": "code",
   "execution_count": 18,
   "metadata": {},
   "outputs": [
    {
     "data": {
      "text/plain": [
       "array([0, 6, 3, 5, 4, 1, 7, 8, 9], dtype=int64)"
      ]
     },
     "execution_count": 18,
     "metadata": {},
     "output_type": "execute_result"
    }
   ],
   "source": [
    "train_data['Labels'].unique()"
   ]
  },
  {
   "cell_type": "code",
   "execution_count": 19,
   "metadata": {
    "scrolled": true
   },
   "outputs": [],
   "source": [
    "Id_wd = train_data[train_data['Id'] == 'w_23a388d']\n",
    "Id_wd.index = range(0, len(Id_wd))\n",
    "#Id_wd.head()\n",
    "Id_wb = train_data[train_data['Id'] == 'w_9b5109b']\n",
    "Id_wb.index = range(0, len(Id_wb))\n",
    "#Id_wb.head()\n",
    "Id_w6 = train_data[train_data['Id'] == 'w_9c506f6']\n",
    "Id_w6.index = range(0, len(Id_w6))\n",
    "#Id_w6.head()\n",
    "Id_wc = train_data[train_data['Id'] == 'w_0369a5c']\n",
    "Id_wc.index = range(0, len(Id_wc))\n",
    "#Id_wc.head()\n",
    "Id_w4 = train_data[train_data['Id'] == 'w_700ebb4']\n",
    "Id_w4.index = range(0, len(Id_w4))\n",
    "#Id_w4.head()\n",
    "Id_w4b = train_data[train_data['Id'] == 'w_564a34b']\n",
    "Id_w4b.index = range(0, len(Id_w4b))\n",
    "#Id_w4b.head()\n",
    "Id_wa = train_data[train_data['Id'] == 'w_3de579a']\n",
    "Id_wa.index = range(0, len(Id_wa))\n",
    "#Id_wa.head()\n",
    "Id_w56 = train_data[train_data['Id'] == 'w_fd3e556']\n",
    "Id_w56.index = range(0, len(Id_w56))\n",
    "#Id_w56.head()\n",
    "Id_w7 = train_data[train_data['Id'] == 'w_88e4537']\n",
    "Id_w7.index = range(0, len(Id_w7))\n",
    "#Id_w7.head()"
   ]
  },
  {
   "cell_type": "code",
   "execution_count": 20,
   "metadata": {},
   "outputs": [],
   "source": [
    "f1 = []\n",
    "for w in Id_wd['Image']:\n",
    "    f1.append(w)\n",
    "f2 = []\n",
    "for w1 in Id_wc['Image']:\n",
    "    f2.append(w1)\n",
    "f3 = []\n",
    "for w2 in Id_w6['Image']:\n",
    "    f3.append(w2)\n",
    "f4 = []\n",
    "for w3 in Id_wb['Image']:\n",
    "    f4.append(w3)\n",
    "f5 = []\n",
    "for w in Id_w4['Image']:\n",
    "    f5.append(w)\n",
    "f6 = []\n",
    "for w1 in Id_w4b['Image']:\n",
    "    f6.append(w1)\n",
    "f7 = []\n",
    "for w2 in Id_wa['Image']:\n",
    "    f7.append(w2)\n",
    "f8 = []\n",
    "for w3 in Id_w56['Image']:\n",
    "    f8.append(w3)\n",
    "f9 = []\n",
    "for w3 in Id_w7['Image']:\n",
    "    f9.append(w3)"
   ]
  },
  {
   "cell_type": "code",
   "execution_count": 21,
   "metadata": {},
   "outputs": [
    {
     "name": "stdout",
     "output_type": "stream",
     "text": [
      "73\n",
      "61\n",
      "62\n",
      "0\n",
      "57\n",
      "51\n",
      "54\n",
      "50\n",
      "49\n"
     ]
    }
   ],
   "source": [
    "print(len(f1))\n",
    "print(len(f2))\n",
    "print(len(f3))\n",
    "print(len(f4))\n",
    "print(len(f5))\n",
    "print(len(f6))\n",
    "print(len(f7))\n",
    "print(len(f8))\n",
    "print(len(f9))"
   ]
  },
  {
   "cell_type": "code",
   "execution_count": 22,
   "metadata": {},
   "outputs": [],
   "source": [
    "#Path to the training images \n",
    "img_path = 'C:\\\\Users\\\\srt90\\\\Desktop\\\\Deep learning project\\\\train'"
   ]
  },
  {
   "cell_type": "code",
   "execution_count": 23,
   "metadata": {},
   "outputs": [],
   "source": [
    "#paths to augumented images of each id\n",
    "\n",
    "r_path = 'C:/Users/srt90/Desktop/Deep learning project/r1'\n",
    "r_path1 = 'C:/Users/srt90/Desktop/Deep learning project/r2'\n",
    "r_path2 = 'C:/Users/srt90/Desktop/Deep learning project/r3'\n",
    "r_path3 = 'C:/Users/srt90/Desktop/Deep learning project/r4'\n",
    "r_path4= 'C:/Users/srt90/Desktop/Deep learning project/r5'\n",
    "r_path5 = 'C:/Users/srt90/Desktop/Deep learning project/r6'\n",
    "r_path6 = 'C:/Users/srt90/Desktop/Deep learning project/r7'\n",
    "r_path7 = 'C:/Users/srt90/Desktop/Deep learning project/r8'\n",
    "r_path8 = 'C:/Users/srt90/Desktop/Deep learning project/r9'"
   ]
  },
  {
   "cell_type": "code",
   "execution_count": null,
   "metadata": {},
   "outputs": [],
   "source": [
    "aug_images= []\n",
    "img_size1 = 124\n",
    "for file in f9:\n",
    "    img1 = cv2.imread(os.path.join(img_path,file))\n",
    "    new_img1 = cv2.resize(img1,(img_size1,img_size1), cv2.IMREAD_GRAYSCALE)\n",
    "    aug_images.append(new_img1)"
   ]
  },
  {
   "cell_type": "code",
   "execution_count": null,
   "metadata": {},
   "outputs": [],
   "source": [
    "len(aug_images)"
   ]
  },
  {
   "cell_type": "code",
   "execution_count": null,
   "metadata": {},
   "outputs": [],
   "source": [
    "datagen = ImageDataGenerator(rotation_range = 20, width_shift_range=0.2,\n",
    "                             height_shift_range=0.2,shear_range=0.2,\n",
    "                             zoom_range=0.1,horizontal_flip=0.2)"
   ]
  },
  {
   "cell_type": "code",
   "execution_count": null,
   "metadata": {},
   "outputs": [],
   "source": [
    "agg = []\n",
    "for v in range(len(aug_images)):\n",
    "    aug1= aug_images[v].reshape(-1,124,124,3)\n",
    "    aug1 = aug1/255\n",
    "    agg.append(aug1)"
   ]
  },
  {
   "cell_type": "code",
   "execution_count": null,
   "metadata": {},
   "outputs": [],
   "source": [
    "#Data Augumentation part\n",
    "\n",
    "for z in range(0,2):\n",
    "    print('hello')\n",
    "    i = 0\n",
    "    for batch in datagen.flow(ag[z],batch_size = 1,save_to_dir=t_path,save_format='jpg',save_prefix='w7'):\n",
    "        print(i)\n",
    "        img_plot = plt.imshow(image.img_to_array(batch[0]))\n",
    "        i+=1\n",
    "        plt.show()\n",
    "        if i == 129:                                                                                                                                          \n",
    "            break"
   ]
  },
  {
   "cell_type": "code",
   "execution_count": 25,
   "metadata": {},
   "outputs": [],
   "source": [
    "path1 = 'C:\\\\Users\\\\srt90\\\\Desktop\\\\Deep learning project\\\\r1'\n",
    "wd_images = []\n",
    "img_size1 = 124\n",
    "for fle in os.listdir(path1):\n",
    "    wd_images.append(fle)"
   ]
  },
  {
   "cell_type": "code",
   "execution_count": 26,
   "metadata": {},
   "outputs": [],
   "source": [
    "path2 = 'C:\\\\Users\\\\srt90\\\\Desktop\\\\Deep learning project\\\\r2'\n",
    "wc_images = []\n",
    "img_size1 = 124\n",
    "for fle in os.listdir(path2):\n",
    "    wc_images.append(fle)"
   ]
  },
  {
   "cell_type": "code",
   "execution_count": 27,
   "metadata": {},
   "outputs": [],
   "source": [
    "path3 = 'C:\\\\Users\\\\srt90\\\\Desktop\\\\Deep learning project\\\\r3'\n",
    "w6_images = []\n",
    "img_size1 = 124\n",
    "for fle in os.listdir(path3):\n",
    "    w6_images.append(fle)"
   ]
  },
  {
   "cell_type": "code",
   "execution_count": 28,
   "metadata": {},
   "outputs": [],
   "source": [
    "path4 = 'C:\\\\Users\\\\srt90\\\\Desktop\\\\Deep learning project\\\\r4'\n",
    "wb_images = []\n",
    "img_size1 = 124\n",
    "for fle in os.listdir(path4):\n",
    "    wb_images.append(fle)"
   ]
  },
  {
   "cell_type": "code",
   "execution_count": 29,
   "metadata": {},
   "outputs": [],
   "source": [
    "path5 = 'C:\\\\Users\\\\srt90\\\\Desktop\\\\Deep learning project\\\\r5'\n",
    "w4_images = []\n",
    "img_size1 = 124\n",
    "for fle in os.listdir(path5):\n",
    "    w4_images.append(fle)"
   ]
  },
  {
   "cell_type": "code",
   "execution_count": 30,
   "metadata": {},
   "outputs": [],
   "source": [
    "path6 = 'C:\\\\Users\\\\srt90\\\\Desktop\\\\Deep learning project\\\\r6'\n",
    "w4b_images = []\n",
    "img_size1 = 124\n",
    "for fle in os.listdir(path6):\n",
    "    w4b_images.append(fle)"
   ]
  },
  {
   "cell_type": "code",
   "execution_count": 31,
   "metadata": {},
   "outputs": [],
   "source": [
    "path7 = 'C:\\\\Users\\\\srt90\\\\Desktop\\\\Deep learning project\\\\r7'\n",
    "wa_images = []\n",
    "img_size1 = 124\n",
    "for fle in os.listdir(path7):\n",
    "    wa_images.append(fle)"
   ]
  },
  {
   "cell_type": "code",
   "execution_count": 32,
   "metadata": {},
   "outputs": [],
   "source": [
    "path8 = 'C:\\\\Users\\\\srt90\\\\Desktop\\\\Deep learning project\\\\r8'\n",
    "w56_images = []\n",
    "img_size1 = 124\n",
    "for fle in os.listdir(path8):\n",
    "    w56_images.append(fle)"
   ]
  },
  {
   "cell_type": "code",
   "execution_count": 33,
   "metadata": {},
   "outputs": [],
   "source": [
    "path9 = 'C:\\\\Users\\\\srt90\\\\Desktop\\\\Deep learning project\\\\r9'\n",
    "w7_images = []\n",
    "img_size1 = 124\n",
    "for fle in os.listdir(path9):\n",
    "    w7_images.append(fle)"
   ]
  },
  {
   "cell_type": "code",
   "execution_count": 34,
   "metadata": {},
   "outputs": [
    {
     "name": "stdout",
     "output_type": "stream",
     "text": [
      "5940\n",
      "5511\n",
      "5490\n",
      "5747\n",
      "5202\n",
      "4803\n",
      "5049\n",
      "4766\n",
      "4622\n"
     ]
    }
   ],
   "source": [
    "print(len(wd_images))\n",
    "print(len(wc_images))\n",
    "print(len(w6_images))\n",
    "print(len(wb_images))\n",
    "print(len(w4_images))\n",
    "print(len(w4b_images))\n",
    "print(len(wa_images))\n",
    "print(len(w56_images))\n",
    "print(len(w7_images))"
   ]
  },
  {
   "cell_type": "code",
   "execution_count": 35,
   "metadata": {
    "scrolled": true
   },
   "outputs": [
    {
     "name": "stderr",
     "output_type": "stream",
     "text": [
      "C:\\Users\\srt90\\Anaconda3\\lib\\site-packages\\pandas\\core\\frame.py:6211: FutureWarning: Sorting because non-concatenation axis is not aligned. A future version\n",
      "of pandas will change to not sort by default.\n",
      "\n",
      "To accept the future behavior, pass 'sort=False'.\n",
      "\n",
      "To retain the current behavior and silence the warning, pass 'sort=True'.\n",
      "\n",
      "  sort=sort)\n"
     ]
    },
    {
     "data": {
      "text/html": [
       "<div>\n",
       "<style scoped>\n",
       "    .dataframe tbody tr th:only-of-type {\n",
       "        vertical-align: middle;\n",
       "    }\n",
       "\n",
       "    .dataframe tbody tr th {\n",
       "        vertical-align: top;\n",
       "    }\n",
       "\n",
       "    .dataframe thead th {\n",
       "        text-align: right;\n",
       "    }\n",
       "</style>\n",
       "<table border=\"1\" class=\"dataframe\">\n",
       "  <thead>\n",
       "    <tr style=\"text-align: right;\">\n",
       "      <th></th>\n",
       "      <th>Id</th>\n",
       "      <th>Image</th>\n",
       "      <th>Labels</th>\n",
       "    </tr>\n",
       "  </thead>\n",
       "  <tbody>\n",
       "    <tr>\n",
       "      <th>0</th>\n",
       "      <td>w_23a388d</td>\n",
       "      <td>02bdec750.jpg</td>\n",
       "      <td>1.0</td>\n",
       "    </tr>\n",
       "    <tr>\n",
       "      <th>1</th>\n",
       "      <td>w_23a388d</td>\n",
       "      <td>02f250971.jpg</td>\n",
       "      <td>1.0</td>\n",
       "    </tr>\n",
       "    <tr>\n",
       "      <th>2</th>\n",
       "      <td>w_23a388d</td>\n",
       "      <td>03b6593e9.jpg</td>\n",
       "      <td>1.0</td>\n",
       "    </tr>\n",
       "    <tr>\n",
       "      <th>3</th>\n",
       "      <td>w_23a388d</td>\n",
       "      <td>043b78dc6.jpg</td>\n",
       "      <td>1.0</td>\n",
       "    </tr>\n",
       "    <tr>\n",
       "      <th>4</th>\n",
       "      <td>w_23a388d</td>\n",
       "      <td>09611f0c5.jpg</td>\n",
       "      <td>1.0</td>\n",
       "    </tr>\n",
       "  </tbody>\n",
       "</table>\n",
       "</div>"
      ],
      "text/plain": [
       "          Id          Image  Labels\n",
       "0  w_23a388d  02bdec750.jpg     1.0\n",
       "1  w_23a388d  02f250971.jpg     1.0\n",
       "2  w_23a388d  03b6593e9.jpg     1.0\n",
       "3  w_23a388d  043b78dc6.jpg     1.0\n",
       "4  w_23a388d  09611f0c5.jpg     1.0"
      ]
     },
     "execution_count": 35,
     "metadata": {},
     "output_type": "execute_result"
    }
   ],
   "source": [
    "Id_wd = Id_wd.append(pd.DataFrame(wd_images, columns=['Image']))\n",
    "Id_wd['Id'].fillna('w_23a388d', inplace = True)\n",
    "Id_wd['Labels'].fillna(5, inplace = True)\n",
    "Id_wd.index = range(0, len(Id_wd))\n",
    "Id_wd.head()"
   ]
  },
  {
   "cell_type": "code",
   "execution_count": 36,
   "metadata": {
    "scrolled": true
   },
   "outputs": [
    {
     "data": {
      "text/html": [
       "<div>\n",
       "<style scoped>\n",
       "    .dataframe tbody tr th:only-of-type {\n",
       "        vertical-align: middle;\n",
       "    }\n",
       "\n",
       "    .dataframe tbody tr th {\n",
       "        vertical-align: top;\n",
       "    }\n",
       "\n",
       "    .dataframe thead th {\n",
       "        text-align: right;\n",
       "    }\n",
       "</style>\n",
       "<table border=\"1\" class=\"dataframe\">\n",
       "  <thead>\n",
       "    <tr style=\"text-align: right;\">\n",
       "      <th></th>\n",
       "      <th>Id</th>\n",
       "      <th>Image</th>\n",
       "      <th>Labels</th>\n",
       "    </tr>\n",
       "  </thead>\n",
       "  <tbody>\n",
       "    <tr>\n",
       "      <th>0</th>\n",
       "      <td>w_0369a5c</td>\n",
       "      <td>00e9e5122.jpg</td>\n",
       "      <td>4.0</td>\n",
       "    </tr>\n",
       "    <tr>\n",
       "      <th>1</th>\n",
       "      <td>w_0369a5c</td>\n",
       "      <td>06ae83bbc.jpg</td>\n",
       "      <td>4.0</td>\n",
       "    </tr>\n",
       "    <tr>\n",
       "      <th>2</th>\n",
       "      <td>w_0369a5c</td>\n",
       "      <td>092ef02b8.jpg</td>\n",
       "      <td>4.0</td>\n",
       "    </tr>\n",
       "    <tr>\n",
       "      <th>3</th>\n",
       "      <td>w_0369a5c</td>\n",
       "      <td>12670516b.jpg</td>\n",
       "      <td>4.0</td>\n",
       "    </tr>\n",
       "    <tr>\n",
       "      <th>4</th>\n",
       "      <td>w_0369a5c</td>\n",
       "      <td>12f5ad5a6.jpg</td>\n",
       "      <td>4.0</td>\n",
       "    </tr>\n",
       "  </tbody>\n",
       "</table>\n",
       "</div>"
      ],
      "text/plain": [
       "          Id          Image  Labels\n",
       "0  w_0369a5c  00e9e5122.jpg     4.0\n",
       "1  w_0369a5c  06ae83bbc.jpg     4.0\n",
       "2  w_0369a5c  092ef02b8.jpg     4.0\n",
       "3  w_0369a5c  12670516b.jpg     4.0\n",
       "4  w_0369a5c  12f5ad5a6.jpg     4.0"
      ]
     },
     "execution_count": 36,
     "metadata": {},
     "output_type": "execute_result"
    }
   ],
   "source": [
    "Id_wc = Id_wc.append(pd.DataFrame(wc_images, columns=['Image']))\n",
    "Id_wc['Id'].fillna('w_0369a5c', inplace = True)\n",
    "Id_wc['Labels'].fillna(4, inplace = True)\n",
    "Id_wc.index = range(0, len(Id_wc))\n",
    "Id_wc.head()"
   ]
  },
  {
   "cell_type": "code",
   "execution_count": 37,
   "metadata": {
    "scrolled": true
   },
   "outputs": [
    {
     "data": {
      "text/html": [
       "<div>\n",
       "<style scoped>\n",
       "    .dataframe tbody tr th:only-of-type {\n",
       "        vertical-align: middle;\n",
       "    }\n",
       "\n",
       "    .dataframe tbody tr th {\n",
       "        vertical-align: top;\n",
       "    }\n",
       "\n",
       "    .dataframe thead th {\n",
       "        text-align: right;\n",
       "    }\n",
       "</style>\n",
       "<table border=\"1\" class=\"dataframe\">\n",
       "  <thead>\n",
       "    <tr style=\"text-align: right;\">\n",
       "      <th></th>\n",
       "      <th>Id</th>\n",
       "      <th>Image</th>\n",
       "      <th>Labels</th>\n",
       "    </tr>\n",
       "  </thead>\n",
       "  <tbody>\n",
       "    <tr>\n",
       "      <th>0</th>\n",
       "      <td>w_9c506f6</td>\n",
       "      <td>00570db6b.jpg</td>\n",
       "      <td>3.0</td>\n",
       "    </tr>\n",
       "    <tr>\n",
       "      <th>1</th>\n",
       "      <td>w_9c506f6</td>\n",
       "      <td>13a7495d5.jpg</td>\n",
       "      <td>3.0</td>\n",
       "    </tr>\n",
       "    <tr>\n",
       "      <th>2</th>\n",
       "      <td>w_9c506f6</td>\n",
       "      <td>15685f504.jpg</td>\n",
       "      <td>3.0</td>\n",
       "    </tr>\n",
       "    <tr>\n",
       "      <th>3</th>\n",
       "      <td>w_9c506f6</td>\n",
       "      <td>158c781a5.jpg</td>\n",
       "      <td>3.0</td>\n",
       "    </tr>\n",
       "    <tr>\n",
       "      <th>4</th>\n",
       "      <td>w_9c506f6</td>\n",
       "      <td>16977eb66.jpg</td>\n",
       "      <td>3.0</td>\n",
       "    </tr>\n",
       "  </tbody>\n",
       "</table>\n",
       "</div>"
      ],
      "text/plain": [
       "          Id          Image  Labels\n",
       "0  w_9c506f6  00570db6b.jpg     3.0\n",
       "1  w_9c506f6  13a7495d5.jpg     3.0\n",
       "2  w_9c506f6  15685f504.jpg     3.0\n",
       "3  w_9c506f6  158c781a5.jpg     3.0\n",
       "4  w_9c506f6  16977eb66.jpg     3.0"
      ]
     },
     "execution_count": 37,
     "metadata": {},
     "output_type": "execute_result"
    }
   ],
   "source": [
    "Id_w6 = Id_w6.append(pd.DataFrame(w6_images, columns=['Image']))\n",
    "Id_w6['Id'].fillna('w_9c506f6', inplace = True)\n",
    "Id_w6['Labels'].fillna(2, inplace = True)\n",
    "Id_w6.index = range(0, len(Id_w6))\n",
    "Id_w6.head()"
   ]
  },
  {
   "cell_type": "code",
   "execution_count": 38,
   "metadata": {
    "scrolled": true
   },
   "outputs": [
    {
     "data": {
      "text/html": [
       "<div>\n",
       "<style scoped>\n",
       "    .dataframe tbody tr th:only-of-type {\n",
       "        vertical-align: middle;\n",
       "    }\n",
       "\n",
       "    .dataframe tbody tr th {\n",
       "        vertical-align: top;\n",
       "    }\n",
       "\n",
       "    .dataframe thead th {\n",
       "        text-align: right;\n",
       "    }\n",
       "</style>\n",
       "<table border=\"1\" class=\"dataframe\">\n",
       "  <thead>\n",
       "    <tr style=\"text-align: right;\">\n",
       "      <th></th>\n",
       "      <th>Id</th>\n",
       "      <th>Image</th>\n",
       "      <th>Labels</th>\n",
       "    </tr>\n",
       "  </thead>\n",
       "  <tbody>\n",
       "    <tr>\n",
       "      <th>0</th>\n",
       "      <td>w_9b5109b</td>\n",
       "      <td>wb_0_10.jpg</td>\n",
       "      <td>7.0</td>\n",
       "    </tr>\n",
       "    <tr>\n",
       "      <th>1</th>\n",
       "      <td>w_9b5109b</td>\n",
       "      <td>wb_0_100.jpg</td>\n",
       "      <td>7.0</td>\n",
       "    </tr>\n",
       "    <tr>\n",
       "      <th>2</th>\n",
       "      <td>w_9b5109b</td>\n",
       "      <td>wb_0_1000.jpg</td>\n",
       "      <td>7.0</td>\n",
       "    </tr>\n",
       "    <tr>\n",
       "      <th>3</th>\n",
       "      <td>w_9b5109b</td>\n",
       "      <td>wb_0_1002.jpg</td>\n",
       "      <td>7.0</td>\n",
       "    </tr>\n",
       "    <tr>\n",
       "      <th>4</th>\n",
       "      <td>w_9b5109b</td>\n",
       "      <td>wb_0_1003.jpg</td>\n",
       "      <td>7.0</td>\n",
       "    </tr>\n",
       "  </tbody>\n",
       "</table>\n",
       "</div>"
      ],
      "text/plain": [
       "          Id          Image  Labels\n",
       "0  w_9b5109b    wb_0_10.jpg     7.0\n",
       "1  w_9b5109b   wb_0_100.jpg     7.0\n",
       "2  w_9b5109b  wb_0_1000.jpg     7.0\n",
       "3  w_9b5109b  wb_0_1002.jpg     7.0\n",
       "4  w_9b5109b  wb_0_1003.jpg     7.0"
      ]
     },
     "execution_count": 38,
     "metadata": {},
     "output_type": "execute_result"
    }
   ],
   "source": [
    "Id_wb = Id_wb.append(pd.DataFrame(wb_images, columns=['Image']))\n",
    "Id_wb['Id'].fillna('w_9b5109b', inplace = True)\n",
    "Id_wb['Labels'].fillna(7, inplace = True)\n",
    "Id_wb.index = range(0, len(Id_wb))\n",
    "Id_wb.head()"
   ]
  },
  {
   "cell_type": "code",
   "execution_count": 39,
   "metadata": {
    "scrolled": true
   },
   "outputs": [
    {
     "data": {
      "text/html": [
       "<div>\n",
       "<style scoped>\n",
       "    .dataframe tbody tr th:only-of-type {\n",
       "        vertical-align: middle;\n",
       "    }\n",
       "\n",
       "    .dataframe tbody tr th {\n",
       "        vertical-align: top;\n",
       "    }\n",
       "\n",
       "    .dataframe thead th {\n",
       "        text-align: right;\n",
       "    }\n",
       "</style>\n",
       "<table border=\"1\" class=\"dataframe\">\n",
       "  <thead>\n",
       "    <tr style=\"text-align: right;\">\n",
       "      <th></th>\n",
       "      <th>Id</th>\n",
       "      <th>Image</th>\n",
       "      <th>Labels</th>\n",
       "    </tr>\n",
       "  </thead>\n",
       "  <tbody>\n",
       "    <tr>\n",
       "      <th>0</th>\n",
       "      <td>w_700ebb4</td>\n",
       "      <td>00910010d.jpg</td>\n",
       "      <td>5.0</td>\n",
       "    </tr>\n",
       "    <tr>\n",
       "      <th>1</th>\n",
       "      <td>w_700ebb4</td>\n",
       "      <td>0962efdb7.jpg</td>\n",
       "      <td>5.0</td>\n",
       "    </tr>\n",
       "    <tr>\n",
       "      <th>2</th>\n",
       "      <td>w_700ebb4</td>\n",
       "      <td>0c057c0a6.jpg</td>\n",
       "      <td>5.0</td>\n",
       "    </tr>\n",
       "    <tr>\n",
       "      <th>3</th>\n",
       "      <td>w_700ebb4</td>\n",
       "      <td>125b7d50d.jpg</td>\n",
       "      <td>5.0</td>\n",
       "    </tr>\n",
       "    <tr>\n",
       "      <th>4</th>\n",
       "      <td>w_700ebb4</td>\n",
       "      <td>126fc51b0.jpg</td>\n",
       "      <td>5.0</td>\n",
       "    </tr>\n",
       "  </tbody>\n",
       "</table>\n",
       "</div>"
      ],
      "text/plain": [
       "          Id          Image  Labels\n",
       "0  w_700ebb4  00910010d.jpg     5.0\n",
       "1  w_700ebb4  0962efdb7.jpg     5.0\n",
       "2  w_700ebb4  0c057c0a6.jpg     5.0\n",
       "3  w_700ebb4  125b7d50d.jpg     5.0\n",
       "4  w_700ebb4  126fc51b0.jpg     5.0"
      ]
     },
     "execution_count": 39,
     "metadata": {},
     "output_type": "execute_result"
    }
   ],
   "source": [
    "Id_w4 = Id_w4.append(pd.DataFrame(w4_images, columns=['Image']))\n",
    "Id_w4['Id'].fillna('w_700ebb4', inplace = True)\n",
    "Id_w4['Labels'].fillna(3, inplace = True)\n",
    "Id_w4.index = range(0, len(Id_w4))\n",
    "Id_w4.head()"
   ]
  },
  {
   "cell_type": "code",
   "execution_count": 40,
   "metadata": {
    "scrolled": true
   },
   "outputs": [
    {
     "data": {
      "text/html": [
       "<div>\n",
       "<style scoped>\n",
       "    .dataframe tbody tr th:only-of-type {\n",
       "        vertical-align: middle;\n",
       "    }\n",
       "\n",
       "    .dataframe tbody tr th {\n",
       "        vertical-align: top;\n",
       "    }\n",
       "\n",
       "    .dataframe thead th {\n",
       "        text-align: right;\n",
       "    }\n",
       "</style>\n",
       "<table border=\"1\" class=\"dataframe\">\n",
       "  <thead>\n",
       "    <tr style=\"text-align: right;\">\n",
       "      <th></th>\n",
       "      <th>Id</th>\n",
       "      <th>Image</th>\n",
       "      <th>Labels</th>\n",
       "    </tr>\n",
       "  </thead>\n",
       "  <tbody>\n",
       "    <tr>\n",
       "      <th>0</th>\n",
       "      <td>w_564a34b</td>\n",
       "      <td>040da527c.jpg</td>\n",
       "      <td>7.0</td>\n",
       "    </tr>\n",
       "    <tr>\n",
       "      <th>1</th>\n",
       "      <td>w_564a34b</td>\n",
       "      <td>0716fb02e.jpg</td>\n",
       "      <td>7.0</td>\n",
       "    </tr>\n",
       "    <tr>\n",
       "      <th>2</th>\n",
       "      <td>w_564a34b</td>\n",
       "      <td>223bdaa94.jpg</td>\n",
       "      <td>7.0</td>\n",
       "    </tr>\n",
       "    <tr>\n",
       "      <th>3</th>\n",
       "      <td>w_564a34b</td>\n",
       "      <td>252a17791.jpg</td>\n",
       "      <td>7.0</td>\n",
       "    </tr>\n",
       "    <tr>\n",
       "      <th>4</th>\n",
       "      <td>w_564a34b</td>\n",
       "      <td>3612c5daf.jpg</td>\n",
       "      <td>7.0</td>\n",
       "    </tr>\n",
       "  </tbody>\n",
       "</table>\n",
       "</div>"
      ],
      "text/plain": [
       "          Id          Image  Labels\n",
       "0  w_564a34b  040da527c.jpg     7.0\n",
       "1  w_564a34b  0716fb02e.jpg     7.0\n",
       "2  w_564a34b  223bdaa94.jpg     7.0\n",
       "3  w_564a34b  252a17791.jpg     7.0\n",
       "4  w_564a34b  3612c5daf.jpg     7.0"
      ]
     },
     "execution_count": 40,
     "metadata": {},
     "output_type": "execute_result"
    }
   ],
   "source": [
    "Id_w4b = Id_w4b.append(pd.DataFrame(w4b_images, columns=['Image']))\n",
    "Id_w4b['Id'].fillna('w_564a34b', inplace = True)\n",
    "Id_w4b['Labels'].fillna(6, inplace = True)\n",
    "Id_w4b.index = range(0, len(Id_w4b))\n",
    "Id_w4b.head()"
   ]
  },
  {
   "cell_type": "code",
   "execution_count": 41,
   "metadata": {
    "scrolled": true
   },
   "outputs": [
    {
     "data": {
      "text/html": [
       "<div>\n",
       "<style scoped>\n",
       "    .dataframe tbody tr th:only-of-type {\n",
       "        vertical-align: middle;\n",
       "    }\n",
       "\n",
       "    .dataframe tbody tr th {\n",
       "        vertical-align: top;\n",
       "    }\n",
       "\n",
       "    .dataframe thead th {\n",
       "        text-align: right;\n",
       "    }\n",
       "</style>\n",
       "<table border=\"1\" class=\"dataframe\">\n",
       "  <thead>\n",
       "    <tr style=\"text-align: right;\">\n",
       "      <th></th>\n",
       "      <th>Id</th>\n",
       "      <th>Image</th>\n",
       "      <th>Labels</th>\n",
       "    </tr>\n",
       "  </thead>\n",
       "  <tbody>\n",
       "    <tr>\n",
       "      <th>0</th>\n",
       "      <td>w_3de579a</td>\n",
       "      <td>004e8ad5b.jpg</td>\n",
       "      <td>6.0</td>\n",
       "    </tr>\n",
       "    <tr>\n",
       "      <th>1</th>\n",
       "      <td>w_3de579a</td>\n",
       "      <td>01598711e.jpg</td>\n",
       "      <td>6.0</td>\n",
       "    </tr>\n",
       "    <tr>\n",
       "      <th>2</th>\n",
       "      <td>w_3de579a</td>\n",
       "      <td>0b38cb192.jpg</td>\n",
       "      <td>6.0</td>\n",
       "    </tr>\n",
       "    <tr>\n",
       "      <th>3</th>\n",
       "      <td>w_3de579a</td>\n",
       "      <td>0d94bdad3.jpg</td>\n",
       "      <td>6.0</td>\n",
       "    </tr>\n",
       "    <tr>\n",
       "      <th>4</th>\n",
       "      <td>w_3de579a</td>\n",
       "      <td>16a7f84e7.jpg</td>\n",
       "      <td>6.0</td>\n",
       "    </tr>\n",
       "  </tbody>\n",
       "</table>\n",
       "</div>"
      ],
      "text/plain": [
       "          Id          Image  Labels\n",
       "0  w_3de579a  004e8ad5b.jpg     6.0\n",
       "1  w_3de579a  01598711e.jpg     6.0\n",
       "2  w_3de579a  0b38cb192.jpg     6.0\n",
       "3  w_3de579a  0d94bdad3.jpg     6.0\n",
       "4  w_3de579a  16a7f84e7.jpg     6.0"
      ]
     },
     "execution_count": 41,
     "metadata": {},
     "output_type": "execute_result"
    }
   ],
   "source": [
    "Id_wa = Id_wa.append(pd.DataFrame(wa_images, columns=['Image']))\n",
    "Id_wa['Id'].fillna('w_3de579a', inplace = True)\n",
    "Id_wa['Labels'].fillna(1, inplace = True)\n",
    "Id_wa.index = range(0, len(Id_wa))\n",
    "Id_wa.head()"
   ]
  },
  {
   "cell_type": "code",
   "execution_count": 42,
   "metadata": {
    "scrolled": true
   },
   "outputs": [
    {
     "data": {
      "text/html": [
       "<div>\n",
       "<style scoped>\n",
       "    .dataframe tbody tr th:only-of-type {\n",
       "        vertical-align: middle;\n",
       "    }\n",
       "\n",
       "    .dataframe tbody tr th {\n",
       "        vertical-align: top;\n",
       "    }\n",
       "\n",
       "    .dataframe thead th {\n",
       "        text-align: right;\n",
       "    }\n",
       "</style>\n",
       "<table border=\"1\" class=\"dataframe\">\n",
       "  <thead>\n",
       "    <tr style=\"text-align: right;\">\n",
       "      <th></th>\n",
       "      <th>Id</th>\n",
       "      <th>Image</th>\n",
       "      <th>Labels</th>\n",
       "    </tr>\n",
       "  </thead>\n",
       "  <tbody>\n",
       "    <tr>\n",
       "      <th>0</th>\n",
       "      <td>w_fd3e556</td>\n",
       "      <td>0779b9586.jpg</td>\n",
       "      <td>8.0</td>\n",
       "    </tr>\n",
       "    <tr>\n",
       "      <th>1</th>\n",
       "      <td>w_fd3e556</td>\n",
       "      <td>0b92d79c0.jpg</td>\n",
       "      <td>8.0</td>\n",
       "    </tr>\n",
       "    <tr>\n",
       "      <th>2</th>\n",
       "      <td>w_fd3e556</td>\n",
       "      <td>0d3e8320a.jpg</td>\n",
       "      <td>8.0</td>\n",
       "    </tr>\n",
       "    <tr>\n",
       "      <th>3</th>\n",
       "      <td>w_fd3e556</td>\n",
       "      <td>16666fe8c.jpg</td>\n",
       "      <td>8.0</td>\n",
       "    </tr>\n",
       "    <tr>\n",
       "      <th>4</th>\n",
       "      <td>w_fd3e556</td>\n",
       "      <td>175374a41.jpg</td>\n",
       "      <td>8.0</td>\n",
       "    </tr>\n",
       "  </tbody>\n",
       "</table>\n",
       "</div>"
      ],
      "text/plain": [
       "          Id          Image  Labels\n",
       "0  w_fd3e556  0779b9586.jpg     8.0\n",
       "1  w_fd3e556  0b92d79c0.jpg     8.0\n",
       "2  w_fd3e556  0d3e8320a.jpg     8.0\n",
       "3  w_fd3e556  16666fe8c.jpg     8.0\n",
       "4  w_fd3e556  175374a41.jpg     8.0"
      ]
     },
     "execution_count": 42,
     "metadata": {},
     "output_type": "execute_result"
    }
   ],
   "source": [
    "Id_w56 = Id_w56.append(pd.DataFrame(w56_images, columns=['Image']))\n",
    "Id_w56['Id'].fillna('w_fd3e556', inplace = True)\n",
    "Id_w56['Labels'].fillna(8, inplace = True)\n",
    "Id_w56.index = range(0, len(Id_w56))\n",
    "Id_w56.head()"
   ]
  },
  {
   "cell_type": "code",
   "execution_count": 43,
   "metadata": {
    "scrolled": true
   },
   "outputs": [
    {
     "data": {
      "text/html": [
       "<div>\n",
       "<style scoped>\n",
       "    .dataframe tbody tr th:only-of-type {\n",
       "        vertical-align: middle;\n",
       "    }\n",
       "\n",
       "    .dataframe tbody tr th {\n",
       "        vertical-align: top;\n",
       "    }\n",
       "\n",
       "    .dataframe thead th {\n",
       "        text-align: right;\n",
       "    }\n",
       "</style>\n",
       "<table border=\"1\" class=\"dataframe\">\n",
       "  <thead>\n",
       "    <tr style=\"text-align: right;\">\n",
       "      <th></th>\n",
       "      <th>Id</th>\n",
       "      <th>Image</th>\n",
       "      <th>Labels</th>\n",
       "    </tr>\n",
       "  </thead>\n",
       "  <tbody>\n",
       "    <tr>\n",
       "      <th>0</th>\n",
       "      <td>w_88e4537</td>\n",
       "      <td>0988114af.jpg</td>\n",
       "      <td>9.0</td>\n",
       "    </tr>\n",
       "    <tr>\n",
       "      <th>1</th>\n",
       "      <td>w_88e4537</td>\n",
       "      <td>0dad7f7d5.jpg</td>\n",
       "      <td>9.0</td>\n",
       "    </tr>\n",
       "    <tr>\n",
       "      <th>2</th>\n",
       "      <td>w_88e4537</td>\n",
       "      <td>11835e311.jpg</td>\n",
       "      <td>9.0</td>\n",
       "    </tr>\n",
       "    <tr>\n",
       "      <th>3</th>\n",
       "      <td>w_88e4537</td>\n",
       "      <td>1acc3891c.jpg</td>\n",
       "      <td>9.0</td>\n",
       "    </tr>\n",
       "    <tr>\n",
       "      <th>4</th>\n",
       "      <td>w_88e4537</td>\n",
       "      <td>1eef410a0.jpg</td>\n",
       "      <td>9.0</td>\n",
       "    </tr>\n",
       "  </tbody>\n",
       "</table>\n",
       "</div>"
      ],
      "text/plain": [
       "          Id          Image  Labels\n",
       "0  w_88e4537  0988114af.jpg     9.0\n",
       "1  w_88e4537  0dad7f7d5.jpg     9.0\n",
       "2  w_88e4537  11835e311.jpg     9.0\n",
       "3  w_88e4537  1acc3891c.jpg     9.0\n",
       "4  w_88e4537  1eef410a0.jpg     9.0"
      ]
     },
     "execution_count": 43,
     "metadata": {},
     "output_type": "execute_result"
    }
   ],
   "source": [
    "Id_w7 = Id_w7.append(pd.DataFrame(w7_images, columns=['Image']))\n",
    "Id_w7['Id'].fillna('w_88e4537', inplace = True)\n",
    "Id_w7['Labels'].fillna(9, inplace = True)\n",
    "Id_w7.index = range(0, len(Id_w7))\n",
    "Id_w7.head()"
   ]
  },
  {
   "cell_type": "code",
   "execution_count": 44,
   "metadata": {},
   "outputs": [],
   "source": [
    "new_whale = train_data[train_data['Id'] == 'new_whale']\n",
    "new_whale.index = range(0, len(new_whale))"
   ]
  },
  {
   "cell_type": "code",
   "execution_count": 45,
   "metadata": {},
   "outputs": [
    {
     "name": "stderr",
     "output_type": "stream",
     "text": [
      "C:\\Users\\srt90\\Anaconda3\\lib\\site-packages\\ipykernel_launcher.py:2: FutureWarning: Sorting because non-concatenation axis is not aligned. A future version\n",
      "of pandas will change to not sort by default.\n",
      "\n",
      "To accept the future behavior, pass 'sort=False'.\n",
      "\n",
      "To retain the current behavior and silence the warning, pass 'sort=True'.\n",
      "\n",
      "  \n"
     ]
    },
    {
     "data": {
      "text/html": [
       "<div>\n",
       "<style scoped>\n",
       "    .dataframe tbody tr th:only-of-type {\n",
       "        vertical-align: middle;\n",
       "    }\n",
       "\n",
       "    .dataframe tbody tr th {\n",
       "        vertical-align: top;\n",
       "    }\n",
       "\n",
       "    .dataframe thead th {\n",
       "        text-align: right;\n",
       "    }\n",
       "</style>\n",
       "<table border=\"1\" class=\"dataframe\">\n",
       "  <thead>\n",
       "    <tr style=\"text-align: right;\">\n",
       "      <th></th>\n",
       "      <th>Id</th>\n",
       "      <th>Image</th>\n",
       "      <th>Labels</th>\n",
       "    </tr>\n",
       "  </thead>\n",
       "  <tbody>\n",
       "    <tr>\n",
       "      <th>0</th>\n",
       "      <td>new_whale</td>\n",
       "      <td>00050a15a.jpg</td>\n",
       "      <td>0.0</td>\n",
       "    </tr>\n",
       "    <tr>\n",
       "      <th>1</th>\n",
       "      <td>new_whale</td>\n",
       "      <td>0005c1ef8.jpg</td>\n",
       "      <td>0.0</td>\n",
       "    </tr>\n",
       "    <tr>\n",
       "      <th>2</th>\n",
       "      <td>new_whale</td>\n",
       "      <td>0006e997e.jpg</td>\n",
       "      <td>0.0</td>\n",
       "    </tr>\n",
       "    <tr>\n",
       "      <th>3</th>\n",
       "      <td>new_whale</td>\n",
       "      <td>000f0f2bf.jpg</td>\n",
       "      <td>0.0</td>\n",
       "    </tr>\n",
       "    <tr>\n",
       "      <th>4</th>\n",
       "      <td>new_whale</td>\n",
       "      <td>001d7450c.jpg</td>\n",
       "      <td>0.0</td>\n",
       "    </tr>\n",
       "  </tbody>\n",
       "</table>\n",
       "</div>"
      ],
      "text/plain": [
       "          Id          Image  Labels\n",
       "0  new_whale  00050a15a.jpg     0.0\n",
       "1  new_whale  0005c1ef8.jpg     0.0\n",
       "2  new_whale  0006e997e.jpg     0.0\n",
       "3  new_whale  000f0f2bf.jpg     0.0\n",
       "4  new_whale  001d7450c.jpg     0.0"
      ]
     },
     "execution_count": 45,
     "metadata": {},
     "output_type": "execute_result"
    }
   ],
   "source": [
    "fs = [new_whale,Id_w6,Id_wb,Id_wc,Id_wd,Id_w4,Id_w4b,Id_w56,Id_w7,Id_wa]\n",
    "Final_data = pd.concat(fs)\n",
    "Final_data.index = range(len(Final_data))\n",
    "Final_data.head()"
   ]
  },
  {
   "cell_type": "code",
   "execution_count": 46,
   "metadata": {},
   "outputs": [
    {
     "data": {
      "text/plain": [
       "new_whale    9664\n",
       "w_23a388d    6013\n",
       "w_9b5109b    5747\n",
       "w_0369a5c    5572\n",
       "w_9c506f6    5552\n",
       "w_700ebb4    5259\n",
       "w_3de579a    5103\n",
       "w_564a34b    4854\n",
       "w_fd3e556    4816\n",
       "w_88e4537    4671\n",
       "Name: Id, dtype: int64"
      ]
     },
     "execution_count": 46,
     "metadata": {},
     "output_type": "execute_result"
    }
   ],
   "source": [
    "Final_data['Id'].value_counts()"
   ]
  },
  {
   "cell_type": "code",
   "execution_count": 47,
   "metadata": {},
   "outputs": [],
   "source": [
    "Final_data['Labels'] = Final_data['Labels'].apply(lambda x: int(x))"
   ]
  },
  {
   "cell_type": "code",
   "execution_count": 48,
   "metadata": {},
   "outputs": [
    {
     "data": {
      "text/html": [
       "<div>\n",
       "<style scoped>\n",
       "    .dataframe tbody tr th:only-of-type {\n",
       "        vertical-align: middle;\n",
       "    }\n",
       "\n",
       "    .dataframe tbody tr th {\n",
       "        vertical-align: top;\n",
       "    }\n",
       "\n",
       "    .dataframe thead th {\n",
       "        text-align: right;\n",
       "    }\n",
       "</style>\n",
       "<table border=\"1\" class=\"dataframe\">\n",
       "  <thead>\n",
       "    <tr style=\"text-align: right;\">\n",
       "      <th></th>\n",
       "      <th>Id</th>\n",
       "      <th>Image</th>\n",
       "      <th>Labels</th>\n",
       "    </tr>\n",
       "  </thead>\n",
       "  <tbody>\n",
       "    <tr>\n",
       "      <th>0</th>\n",
       "      <td>new_whale</td>\n",
       "      <td>00050a15a.jpg</td>\n",
       "      <td>0</td>\n",
       "    </tr>\n",
       "    <tr>\n",
       "      <th>1</th>\n",
       "      <td>new_whale</td>\n",
       "      <td>0005c1ef8.jpg</td>\n",
       "      <td>0</td>\n",
       "    </tr>\n",
       "    <tr>\n",
       "      <th>2</th>\n",
       "      <td>new_whale</td>\n",
       "      <td>0006e997e.jpg</td>\n",
       "      <td>0</td>\n",
       "    </tr>\n",
       "    <tr>\n",
       "      <th>3</th>\n",
       "      <td>new_whale</td>\n",
       "      <td>000f0f2bf.jpg</td>\n",
       "      <td>0</td>\n",
       "    </tr>\n",
       "    <tr>\n",
       "      <th>4</th>\n",
       "      <td>new_whale</td>\n",
       "      <td>001d7450c.jpg</td>\n",
       "      <td>0</td>\n",
       "    </tr>\n",
       "  </tbody>\n",
       "</table>\n",
       "</div>"
      ],
      "text/plain": [
       "          Id          Image  Labels\n",
       "0  new_whale  00050a15a.jpg       0\n",
       "1  new_whale  0005c1ef8.jpg       0\n",
       "2  new_whale  0006e997e.jpg       0\n",
       "3  new_whale  000f0f2bf.jpg       0\n",
       "4  new_whale  001d7450c.jpg       0"
      ]
     },
     "execution_count": 48,
     "metadata": {},
     "output_type": "execute_result"
    }
   ],
   "source": [
    "Final_data.head()"
   ]
  },
  {
   "cell_type": "code",
   "execution_count": 49,
   "metadata": {},
   "outputs": [],
   "source": [
    "imges = []\n",
    "for im in Final_data['Image']:\n",
    "    imges.append(im)"
   ]
  },
  {
   "cell_type": "code",
   "execution_count": 50,
   "metadata": {},
   "outputs": [
    {
     "data": {
      "text/plain": [
       "57251"
      ]
     },
     "execution_count": 50,
     "metadata": {},
     "output_type": "execute_result"
    }
   ],
   "source": [
    "len(imges)"
   ]
  },
  {
   "cell_type": "code",
   "execution_count": null,
   "metadata": {},
   "outputs": [],
   "source": [
    "#Resizing the images\n",
    "pathh = 'C:\\\\Users\\\\srt90\\\\Desktop\\\\Deep learning project\\\\train1'\n",
    "train_images = []\n",
    "img_size = 124\n",
    "for file in imges:\n",
    "    img1 = cv2.imread(os.path.join(pathh,file), cv2.IMREAD_GRAYSCALE)\n",
    "    new_img = cv2.resize(img1,(img_size,img_size))\n",
    "    train_images.append(new_img)\n",
    "        "
   ]
  },
  {
   "cell_type": "code",
   "execution_count": 51,
   "metadata": {},
   "outputs": [],
   "source": [
    "labels = []\n",
    "for l in Final_data['Labels']:\n",
    "    labels.append(int(l))"
   ]
  },
  {
   "cell_type": "code",
   "execution_count": null,
   "metadata": {},
   "outputs": [],
   "source": [
    "X = []\n",
    "y = []"
   ]
  },
  {
   "cell_type": "code",
   "execution_count": null,
   "metadata": {},
   "outputs": [],
   "source": [
    "for a in train_images:\n",
    "    X.append(a)\n",
    "for b in labels:\n",
    "    y.append(b)"
   ]
  },
  {
   "cell_type": "code",
   "execution_count": null,
   "metadata": {},
   "outputs": [],
   "source": [
    "def merge(l1,l2):\n",
    "    m = list(zip(l1,l2))\n",
    "    return m"
   ]
  },
  {
   "cell_type": "code",
   "execution_count": null,
   "metadata": {},
   "outputs": [],
   "source": [
    "training_images = merge(X,y)"
   ]
  },
  {
   "cell_type": "code",
   "execution_count": null,
   "metadata": {},
   "outputs": [],
   "source": [
    "x_train = []\n",
    "y_train = []"
   ]
  },
  {
   "cell_type": "code",
   "execution_count": null,
   "metadata": {},
   "outputs": [],
   "source": [
    "for f,l in training_images:\n",
    "    x_train.append(f)\n",
    "    y_train.append(l)"
   ]
  },
  {
   "cell_type": "code",
   "execution_count": null,
   "metadata": {},
   "outputs": [],
   "source": [
    "#last value in reshape refers to gray scale (1)\n",
    "x_train = np.array(x_train).reshape(-1,img_size,img_size,1)"
   ]
  },
  {
   "cell_type": "code",
   "execution_count": null,
   "metadata": {},
   "outputs": [],
   "source": [
    "y_train = np.array(y_train)"
   ]
  },
  {
   "cell_type": "code",
   "execution_count": null,
   "metadata": {},
   "outputs": [],
   "source": [
    "# Saving the train data\n",
    "#np.save('x_train.npy', x_train)\n",
    "#np.save('y_train.npy', y_train)"
   ]
  }
 ],
 "metadata": {
  "kernelspec": {
   "display_name": "Python 3",
   "language": "python",
   "name": "python3"
  },
  "language_info": {
   "codemirror_mode": {
    "name": "ipython",
    "version": 3
   },
   "file_extension": ".py",
   "mimetype": "text/x-python",
   "name": "python",
   "nbconvert_exporter": "python",
   "pygments_lexer": "ipython3",
   "version": "3.6.6"
  }
 },
 "nbformat": 4,
 "nbformat_minor": 2
}
