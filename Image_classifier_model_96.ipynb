{
  "nbformat": 4,
  "nbformat_minor": 0,
  "metadata": {
    "accelerator": "GPU",
    "colab": {
      "name": "Image_classifier_model.ipynb",
      "provenance": [],
      "machine_shape": "hm"
    },
    "kernelspec": {
      "name": "python3",
      "display_name": "Python 3"
    },
    "language_info": {
      "codemirror_mode": {
        "name": "ipython",
        "version": 3
      },
      "file_extension": ".py",
      "mimetype": "text/x-python",
      "name": "python",
      "nbconvert_exporter": "python",
      "pygments_lexer": "ipython3",
      "version": "3.6.6"
    }
  },
  "cells": [
    {
      "cell_type": "code",
      "metadata": {
        "colab_type": "code",
        "id": "6V6JcwamNVK1",
        "colab": {
          "base_uri": "https://localhost:8080/",
          "height": 79
        },
        "outputId": "d2d0f4aa-df3b-4901-ade8-553c542e0ca1"
      },
      "source": [
        "import pandas as pd\n",
        "import numpy as np\n",
        "import random\n",
        "import os\n",
        "import cv2\n",
        "import keras\n",
        "import seaborn as sns\n",
        "import random\n",
        "import matplotlib.pyplot as plt\n",
        "%matplotlib inline\n",
        "from keras_preprocessing.image import ImageDataGenerator\n",
        "from keras_preprocessing import image\n",
        "from sklearn.model_selection import train_test_split\n",
        "from sklearn.metrics import confusion_matrix\n",
        "from keras.models import load_model\n",
        "from sklearn.metrics import accuracy_score\n",
        "import tensorflow as tf\n",
        "import matplotlib.pyplot as plt\n",
        "from tensorflow.keras.layers import Dense, Flatten, Activation, Conv2D, MaxPooling2D\n",
        "from tensorflow.keras.layers import Dropout, BatchNormalization\n",
        "from tensorflow.keras.models import Sequential\n",
        "from sklearn.model_selection import StratifiedKFold\n",
        "from sklearn.model_selection import cross_val_score"
      ],
      "execution_count": 1,
      "outputs": [
        {
          "output_type": "stream",
          "text": [
            "Using TensorFlow backend.\n"
          ],
          "name": "stderr"
        },
        {
          "output_type": "display_data",
          "data": {
            "text/html": [
              "<p style=\"color: red;\">\n",
              "The default version of TensorFlow in Colab will soon switch to TensorFlow 2.x.<br>\n",
              "We recommend you <a href=\"https://www.tensorflow.org/guide/migrate\" target=\"_blank\">upgrade</a> now \n",
              "or ensure your notebook will continue to use TensorFlow 1.x via the <code>%tensorflow_version 1.x</code> magic:\n",
              "<a href=\"https://colab.research.google.com/notebooks/tensorflow_version.ipynb\" target=\"_blank\">more info</a>.</p>\n"
            ],
            "text/plain": [
              "<IPython.core.display.HTML object>"
            ]
          },
          "metadata": {
            "tags": []
          }
        }
      ]
    },
    {
      "cell_type": "code",
      "metadata": {
        "id": "J2Xix9asQdiV",
        "colab_type": "code",
        "colab": {}
      },
      "source": [
        "from google.colab import drive\n",
        "drive.mount('/gdrive')\n",
        "%cd /gdrive"
      ],
      "execution_count": 0,
      "outputs": []
    },
    {
      "cell_type": "code",
      "metadata": {
        "id": "l-4PrxNpRbK9",
        "colab_type": "code",
        "colab": {}
      },
      "source": [
        "#loading the saved train data (Normalized)\n",
        "x_train =  np.load('/gdrive/My Drive/Colab Notebooks/New/x_train_norm.npy')\n",
        "y_train = np.load('/gdrive/My Drive/Colab Notebooks/New/y_train.npy')"
      ],
      "execution_count": 0,
      "outputs": []
    },
    {
      "cell_type": "code",
      "metadata": {
        "id": "tJsmwOxJ09Gs",
        "colab_type": "code",
        "colab": {
          "base_uri": "https://localhost:8080/",
          "height": 34
        },
        "outputId": "f2f6997d-82cb-475e-8c42-392a6b0458e0"
      },
      "source": [
        "len(x_train)"
      ],
      "execution_count": 4,
      "outputs": [
        {
          "output_type": "execute_result",
          "data": {
            "text/plain": [
              "57251"
            ]
          },
          "metadata": {
            "tags": []
          },
          "execution_count": 4
        }
      ]
    },
    {
      "cell_type": "code",
      "metadata": {
        "colab_type": "code",
        "id": "jZ3So3Y9Jhjh",
        "colab": {}
      },
      "source": [
        "f = 4\n",
        "skf = StratifiedKFold(f)"
      ],
      "execution_count": 0,
      "outputs": []
    },
    {
      "cell_type": "code",
      "metadata": {
        "colab_type": "code",
        "id": "tjYrN7N9OisL",
        "outputId": "b532a569-d84e-4474-8a0c-5b7be5e03d84",
        "colab": {
          "base_uri": "https://localhost:8080/",
          "height": 1000
        }
      },
      "source": [
        "Score= 0\n",
        "fold = 0\n",
        "\n",
        "for train, test in skf.split(x_train,y_train):\n",
        "    \n",
        "    fold+= 1\n",
        "    print(\"Fold\", fold)\n",
        "    \n",
        "    x1_train = x_train[train]\n",
        "    y1_train = y_train[train]\n",
        "    x1_test = x_train[test]\n",
        "    y1_test = y_train[test]\n",
        "    \n",
        "    \n",
        "    model = Sequential()\n",
        "    model.add(Conv2D(64, (3,3),input_shape = (124,124,1)))\n",
        "    model.add(Activation(\"relu\"))\n",
        "    model.add(Conv2D(64, (3,3)))\n",
        "    model.add(Activation(\"relu\"))\n",
        "    model.add(MaxPooling2D(pool_size = (2,2)))\n",
        "\n",
        "    model.add(Conv2D(128, (3,3)))\n",
        "    model.add(Activation(\"relu\"))\n",
        "    model.add(Conv2D(128, (3,3)))\n",
        "    model.add(Activation(\"relu\"))\n",
        "    model.add(MaxPooling2D(pool_size = (2,2)))\n",
        "\n",
        "    model.add(Conv2D(256, (3,3)))\n",
        "    model.add(Activation(\"relu\"))\n",
        "    model.add(Conv2D(256, (3,3)))\n",
        "    model.add(Activation(\"relu\"))\n",
        "    model.add(Conv2D(256, (3,3)))\n",
        "    model.add(Activation(\"relu\"))\n",
        "    model.add(MaxPooling2D(pool_size = (2,2)))\n",
        "\n",
        "    model.add(Conv2D(512, (3,3)))\n",
        "    model.add(Activation(\"relu\"))\n",
        "    model.add(Conv2D(512, (3,3)))\n",
        "    model.add(Activation(\"relu\"))\n",
        "    model.add(Conv2D(512, (3,3)))\n",
        "    model.add(Activation(\"relu\"))\n",
        "    model.add(MaxPooling2D(pool_size = (2,2)))\n",
        "\n",
        "    model.add(Flatten())\n",
        "    model.add(Dense(4096))\n",
        "    model.add(BatchNormalization())\n",
        "    model.add(Activation(\"relu\"))\n",
        "    model.add(Dropout(0.5))\n",
        "\n",
        "    model.add(Dense(4096))\n",
        "    model.add(BatchNormalization())\n",
        "    model.add(Activation(\"relu\"))\n",
        "    model.add(Dropout(0.5))\n",
        "\n",
        "    model.add(Dense(10))\n",
        "    model.add(Activation('softmax'))\n",
        "\n",
        "    model.compile('adam', loss='sparse_categorical_crossentropy', metrics = ['accuracy'])\n",
        "    model.fit(x1_train, y1_train, validation_data = (x1_test,y1_test), epochs = 10, batch_size = 42)\n",
        "    \n",
        "    p = model.predict_classes(x1_test, batch_size = 30)\n",
        "    score = accuracy_score(y1_test, p)\n",
        "    print(\"Fold accuracy: \", score)\n",
        "\n",
        "    Score += score\n",
        "\n",
        "\n",
        "print(\"Final accuracy\", Score/f)\n"
      ],
      "execution_count": 6,
      "outputs": [
        {
          "output_type": "stream",
          "text": [
            "Fold 1\n",
            "WARNING:tensorflow:From /usr/local/lib/python3.6/dist-packages/tensorflow_core/python/ops/resource_variable_ops.py:1630: calling BaseResourceVariable.__init__ (from tensorflow.python.ops.resource_variable_ops) with constraint is deprecated and will be removed in a future version.\n",
            "Instructions for updating:\n",
            "If using Keras pass *_constraint arguments to layers.\n",
            "Train on 42935 samples, validate on 14316 samples\n",
            "Epoch 1/10\n",
            "42935/42935 [==============================] - 91s 2ms/sample - loss: 2.1406 - acc: 0.2838 - val_loss: 1.6837 - val_acc: 0.4031\n",
            "Epoch 2/10\n",
            "42935/42935 [==============================] - 85s 2ms/sample - loss: 1.2422 - acc: 0.5551 - val_loss: 1.3880 - val_acc: 0.6404\n",
            "Epoch 3/10\n",
            "42935/42935 [==============================] - 85s 2ms/sample - loss: 0.6449 - acc: 0.7942 - val_loss: 1.2743 - val_acc: 0.7168\n",
            "Epoch 4/10\n",
            "42935/42935 [==============================] - 85s 2ms/sample - loss: 0.3721 - acc: 0.8899 - val_loss: 0.8690 - val_acc: 0.8945\n",
            "Epoch 5/10\n",
            "42935/42935 [==============================] - 86s 2ms/sample - loss: 0.2460 - acc: 0.9271 - val_loss: 0.5638 - val_acc: 0.9339\n",
            "Epoch 6/10\n",
            "42935/42935 [==============================] - 86s 2ms/sample - loss: 0.1837 - acc: 0.9451 - val_loss: 0.6303 - val_acc: 0.9522\n",
            "Epoch 7/10\n",
            "42935/42935 [==============================] - 85s 2ms/sample - loss: 0.1353 - acc: 0.9607 - val_loss: 0.3423 - val_acc: 0.9515\n",
            "Epoch 8/10\n",
            "42935/42935 [==============================] - 85s 2ms/sample - loss: 0.2069 - acc: 0.9505 - val_loss: 0.3329 - val_acc: 0.9593\n",
            "Epoch 9/10\n",
            "42935/42935 [==============================] - 85s 2ms/sample - loss: 0.0744 - acc: 0.9794 - val_loss: 0.5100 - val_acc: 0.9616\n",
            "Epoch 10/10\n",
            "42935/42935 [==============================] - 85s 2ms/sample - loss: 0.0517 - acc: 0.9848 - val_loss: 0.4000 - val_acc: 0.9650\n",
            "Fold accuracy:  0.9650041911148366\n",
            "Fold 2\n",
            "Train on 42937 samples, validate on 14314 samples\n",
            "Epoch 1/10\n",
            "42937/42937 [==============================] - 90s 2ms/sample - loss: 2.2288 - acc: 0.2474 - val_loss: 22.3099 - val_acc: 0.1696\n",
            "Epoch 2/10\n",
            "42937/42937 [==============================] - 92s 2ms/sample - loss: 1.7815 - acc: 0.3621 - val_loss: 1.4595 - val_acc: 0.4468\n",
            "Epoch 3/10\n",
            "42937/42937 [==============================] - 89s 2ms/sample - loss: 1.4670 - acc: 0.4943 - val_loss: 1.5147 - val_acc: 0.4707\n",
            "Epoch 4/10\n",
            "42937/42937 [==============================] - 90s 2ms/sample - loss: 1.1261 - acc: 0.6148 - val_loss: 0.8338 - val_acc: 0.7029\n",
            "Epoch 5/10\n",
            "42937/42937 [==============================] - 90s 2ms/sample - loss: 0.7885 - acc: 0.7456 - val_loss: 0.6294 - val_acc: 0.7783\n",
            "Epoch 6/10\n",
            "42937/42937 [==============================] - 91s 2ms/sample - loss: 0.5897 - acc: 0.8168 - val_loss: 0.4965 - val_acc: 0.8351\n",
            "Epoch 7/10\n",
            "42937/42937 [==============================] - 90s 2ms/sample - loss: 0.4519 - acc: 0.8642 - val_loss: 0.7375 - val_acc: 0.7478\n",
            "Epoch 8/10\n",
            "42937/42937 [==============================] - 90s 2ms/sample - loss: 0.3893 - acc: 0.8869 - val_loss: 0.2241 - val_acc: 0.9269\n",
            "Epoch 9/10\n",
            "42937/42937 [==============================] - 90s 2ms/sample - loss: 0.2981 - acc: 0.9109 - val_loss: 0.1811 - val_acc: 0.9453\n",
            "Epoch 10/10\n",
            "42937/42937 [==============================] - 90s 2ms/sample - loss: 0.2189 - acc: 0.9343 - val_loss: 0.1928 - val_acc: 0.9360\n",
            "Fold accuracy:  0.9360067067206931\n",
            "Fold 3\n",
            "Train on 42940 samples, validate on 14311 samples\n",
            "Epoch 1/10\n",
            "42940/42940 [==============================] - 91s 2ms/sample - loss: 2.2068 - acc: 0.2770 - val_loss: 11.6425 - val_acc: 0.2032\n",
            "Epoch 2/10\n",
            "42940/42940 [==============================] - 90s 2ms/sample - loss: 1.5745 - acc: 0.4285 - val_loss: 5.1470 - val_acc: 0.1410\n",
            "Epoch 3/10\n",
            "42940/42940 [==============================] - 90s 2ms/sample - loss: 1.2052 - acc: 0.5654 - val_loss: 2.5237 - val_acc: 0.2905\n",
            "Epoch 4/10\n",
            "42940/42940 [==============================] - 90s 2ms/sample - loss: 0.8976 - acc: 0.6910 - val_loss: 1.5711 - val_acc: 0.5907\n",
            "Epoch 5/10\n",
            "42940/42940 [==============================] - 90s 2ms/sample - loss: 0.6897 - acc: 0.7743 - val_loss: 0.6381 - val_acc: 0.7878\n",
            "Epoch 6/10\n",
            "42940/42940 [==============================] - 90s 2ms/sample - loss: 0.5001 - acc: 0.8375 - val_loss: 0.5302 - val_acc: 0.8171\n",
            "Epoch 7/10\n",
            "42940/42940 [==============================] - 90s 2ms/sample - loss: 0.3512 - acc: 0.8895 - val_loss: 0.6552 - val_acc: 0.7999\n",
            "Epoch 8/10\n",
            "42940/42940 [==============================] - 89s 2ms/sample - loss: 0.2787 - acc: 0.9121 - val_loss: 0.1564 - val_acc: 0.9460\n",
            "Epoch 9/10\n",
            "42940/42940 [==============================] - 89s 2ms/sample - loss: 0.2284 - acc: 0.9280 - val_loss: 0.2303 - val_acc: 0.9264\n",
            "Epoch 10/10\n",
            "42940/42940 [==============================] - 90s 2ms/sample - loss: 0.1816 - acc: 0.9429 - val_loss: 0.0876 - val_acc: 0.9730\n",
            "Fold accuracy:  0.9730277408986094\n",
            "Fold 4\n",
            "Train on 42941 samples, validate on 14310 samples\n",
            "Epoch 1/10\n",
            "42941/42941 [==============================] - 89s 2ms/sample - loss: 2.6200 - acc: 0.1693 - val_loss: 2.4119 - val_acc: 0.1675\n",
            "Epoch 2/10\n",
            "42941/42941 [==============================] - 88s 2ms/sample - loss: 2.3196 - acc: 0.2517 - val_loss: 2.0658 - val_acc: 0.2266\n",
            "Epoch 3/10\n",
            "42941/42941 [==============================] - 88s 2ms/sample - loss: 1.8088 - acc: 0.4064 - val_loss: 1.5711 - val_acc: 0.4031\n",
            "Epoch 4/10\n",
            "42941/42941 [==============================] - 87s 2ms/sample - loss: 1.1267 - acc: 0.6220 - val_loss: 0.9393 - val_acc: 0.7129\n",
            "Epoch 5/10\n",
            "42941/42941 [==============================] - 88s 2ms/sample - loss: 0.6351 - acc: 0.7880 - val_loss: 0.5210 - val_acc: 0.8481\n",
            "Epoch 6/10\n",
            "42941/42941 [==============================] - 87s 2ms/sample - loss: 0.3908 - acc: 0.8732 - val_loss: 0.4922 - val_acc: 0.8889\n",
            "Epoch 7/10\n",
            "42941/42941 [==============================] - 88s 2ms/sample - loss: 0.2588 - acc: 0.9171 - val_loss: 0.3940 - val_acc: 0.9367\n",
            "Epoch 8/10\n",
            "42941/42941 [==============================] - 87s 2ms/sample - loss: 0.2044 - acc: 0.9367 - val_loss: 0.3678 - val_acc: 0.9493\n",
            "Epoch 9/10\n",
            "42941/42941 [==============================] - 88s 2ms/sample - loss: 0.1480 - acc: 0.9522 - val_loss: 0.3993 - val_acc: 0.9409\n",
            "Epoch 10/10\n",
            "42941/42941 [==============================] - 89s 2ms/sample - loss: 0.1633 - acc: 0.9516 - val_loss: 0.2436 - val_acc: 0.9642\n",
            "Fold accuracy:  0.964220824598183\n",
            "Final accuracy 0.9595648658330805\n"
          ],
          "name": "stdout"
        }
      ]
    },
    {
      "cell_type": "code",
      "metadata": {
        "id": "UkEUgwlUNIdm",
        "colab_type": "code",
        "colab": {}
      },
      "source": [
        ""
      ],
      "execution_count": 0,
      "outputs": []
    },
    {
      "cell_type": "code",
      "metadata": {
        "id": "DAvC2K2rc0yR",
        "colab_type": "code",
        "colab": {}
      },
      "source": [
        ""
      ],
      "execution_count": 0,
      "outputs": []
    },
    {
      "cell_type": "code",
      "metadata": {
        "id": "gkaB4qRJXXO4",
        "colab_type": "code",
        "colab": {}
      },
      "source": [
        ""
      ],
      "execution_count": 0,
      "outputs": []
    },
    {
      "cell_type": "code",
      "metadata": {
        "id": "PBgS9aFgXXTm",
        "colab_type": "code",
        "colab": {}
      },
      "source": [
        ""
      ],
      "execution_count": 0,
      "outputs": []
    },
    {
      "cell_type": "code",
      "metadata": {
        "id": "TJeDXsIyXXaM",
        "colab_type": "code",
        "colab": {}
      },
      "source": [
        ""
      ],
      "execution_count": 0,
      "outputs": []
    }
  ]
}
